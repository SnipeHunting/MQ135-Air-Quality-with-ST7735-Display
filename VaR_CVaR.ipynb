{
  "nbformat": 4,
  "nbformat_minor": 0,
  "metadata": {
    "colab": {
      "provenance": [],
      "authorship_tag": "ABX9TyOl7WsQxuPsQ1hzUFQeBWvP",
      "include_colab_link": true
    },
    "kernelspec": {
      "name": "python3",
      "display_name": "Python 3"
    },
    "language_info": {
      "name": "python"
    }
  },
  "cells": [
    {
      "cell_type": "markdown",
      "metadata": {
        "id": "view-in-github",
        "colab_type": "text"
      },
      "source": [
        "<a href=\"https://colab.research.google.com/github/SnipeHunting/MQ135-Air-Quality-with-ST7735-Display/blob/master/VaR_CVaR.ipynb\" target=\"_parent\"><img src=\"https://colab.research.google.com/assets/colab-badge.svg\" alt=\"Open In Colab\"/></a>"
      ]
    },
    {
      "cell_type": "code",
      "execution_count": null,
      "metadata": {
        "id": "oSJplm4Nlyot"
      },
      "outputs": [],
      "source": [
        "import pandas as pd\n",
        "import numpy as np\n",
        "import datetime as dt\n",
        "from pandas_datareader import data as pdr\n",
        "from scipy.stats import norm, t\n",
        "import matplotlib.pyplot as plt"
      ]
    },
    {
      "cell_type": "markdown",
      "source": [],
      "metadata": {
        "id": "IPhGbjFjmzsV"
      }
    },
    {
      "cell_type": "code",
      "source": [
        "# Import data\n",
        "def getData(stocks, start, end):\n",
        "    stockData = pdr.get_data_yahoo(stocks, start=start, end=end)\n",
        "    stockData = stockData['Close']\n",
        "    returns = stockData.pct_change()\n",
        "    meanReturns = returns.mean()\n",
        "    covMatrix = returns.cov()\n",
        "    return returns, meanReturns, covMatrix\n",
        "\n",
        "# Portfolio Performance\n",
        "def portfolioPerformance(weights, meanReturns, covMatrix, Time):\n",
        "    returns = np.sum(meanReturns*weights)*Time\n",
        "    std = np.sqrt( np.dot(weights.T, np.dot(covMatrix, weights)) ) * np.sqrt(Time)\n",
        "    return returns, std\n",
        "\n",
        "stockList = ['CBA', 'BHP', 'TLS', 'NAB', 'WBC', 'STO']\n",
        "stocks = [stock+'.AX' for stock in stockList]\n",
        "endDate = dt.datetime.now()\n",
        "startDate = endDate - dt.timedelta(days=800)\n",
        "\n",
        "returns, meanReturns, covMatrix = getData(stocks, start=startDate, end=endDate)\n",
        "returns = returns.dropna()\n",
        "\n",
        "weights = np.random.random(len(returns.columns))\n",
        "weights /= np.sum(weights)\n",
        "\n",
        "returns['portfolio'] = returns.dot(weights)"
      ],
      "metadata": {
        "id": "5_aw232GmATU"
      },
      "execution_count": null,
      "outputs": []
    },
    {
      "cell_type": "code",
      "source": [
        "def historicalVaR(returns, alpha=5):\n",
        "    \"\"\"\n",
        "    Read in a pandas dataframe of returns / a pandas series of returns\n",
        "    Output the percentile of the distribution at the given alpha confidence level\n",
        "    \"\"\"\n",
        "    if isinstance(returns, pd.Series):\n",
        "        return np.percentile(returns, alpha)\n",
        "\n",
        "    # A passed user-defined-function will be passed a Series for evaluation.\n",
        "    elif isinstance(returns, pd.DataFrame):\n",
        "        return returns.aggregate(historicalVaR, alpha=alpha)\n",
        "\n",
        "    else:\n",
        "        raise TypeError(\"Expected returns to be dataframe or series\")\n",
        "\n",
        "def historicalCVaR(returns, alpha=5):\n",
        "    \"\"\"\n",
        "    Read in a pandas dataframe of returns / a pandas series of returns\n",
        "    Output the CVaR for dataframe / series\n",
        "    \"\"\"\n",
        "    if isinstance(returns, pd.Series):\n",
        "        belowVaR = returns &lt;= historicalVaR(returns, alpha=alpha)\n",
        "        return returns[belowVaR].mean()\n",
        "\n",
        "    # A passed user-defined-function will be passed a Series for evaluation.\n",
        "    elif isinstance(returns, pd.DataFrame):\n",
        "        return returns.aggregate(historicalCVaR, alpha=alpha)\n",
        "\n",
        "    else:\n",
        "        raise TypeError(\"Expected returns to be dataframe or series\")\n",
        "\n",
        "# 100 days\n",
        "Time = 100\n",
        "\n",
        "hVaR = -historicalVaR(returns['portfolio'], alpha=5)*np.sqrt(Time)\n",
        "hCVaR = -historicalCVaR(returns['portfolio'], alpha=5)*np.sqrt(Time)\n",
        "pRet, pStd = portfolioPerformance(weights, meanReturns, covMatrix, Time)\n",
        "\n",
        "InitialInvestment = 10000\n",
        "print('Expected Portfolio Return:      ', round(InitialInvestment*pRet,2))\n",
        "print('Value at Risk 95th CI    :      ', round(InitialInvestment*hVaR,2))\n",
        "print('Conditional VaR 95th CI  :      ', round(InitialInvestment*hCVaR,2))"
      ],
      "metadata": {
        "id": "v2P1tEY6mEbf"
      },
      "execution_count": null,
      "outputs": []
    },
    {
      "cell_type": "code",
      "source": [],
      "metadata": {
        "id": "_pHX_s1nmJ8K"
      },
      "execution_count": null,
      "outputs": []
    },
    {
      "cell_type": "code",
      "source": [
        "def var_parametric(portofolioReturns, portfolioStd, distribution='normal', alpha=5, dof=6):\n",
        "    # because the distribution is symmetric\n",
        "    if distribution == 'normal':\n",
        "        VaR = norm.ppf(1-alpha/100)*portfolioStd - portofolioReturns\n",
        "    elif distribution == 't-distribution':\n",
        "        nu = dof\n",
        "        VaR = np.sqrt((nu-2)/nu) * t.ppf(1-alpha/100, nu) * portfolioStd - portofolioReturns\n",
        "    else:\n",
        "        raise TypeError(\"Expected distribution type 'normal'/'t-distribution'\")\n",
        "    return VaR\n",
        "\n",
        "def cvar_parametric(portofolioReturns, portfolioStd, distribution='normal', alpha=5, dof=6):\n",
        "    if distribution == 'normal':\n",
        "        CVaR = (alpha/100)**-1 * norm.pdf(norm.ppf(alpha/100))*portfolioStd - portofolioReturns\n",
        "    elif distribution == 't-distribution':\n",
        "        nu = dof\n",
        "        xanu = t.ppf(alpha/100, nu)\n",
        "        CVaR = -1/(alpha/100) * (1-nu)**(-1) * (nu-2+xanu**2) * t.pdf(xanu, nu) * portfolioStd - portofolioReturns\n",
        "    else:\n",
        "        raise TypeError(\"Expected distribution type 'normal'/'t-distribution'\")\n",
        "    return CVaR\n",
        "\n",
        "normVaR = var_parametric(pRet, pStd)\n",
        "normCVaR = cvar_parametric(pRet, pStd)\n",
        "\n",
        "tVaR = var_parametric(pRet, pStd, distribution='t-distribution')\n",
        "tCVaR = cvar_parametric(pRet, pStd, distribution='t-distribution')\n",
        "\n",
        "print(\"Normal VaR 95th CI       :      \", round(InitialInvestment*normVaR,2))\n",
        "print(\"Normal CVaR 95th CI      :      \", round(InitialInvestment*normCVaR,2))\n",
        "print(\"t-dist VaR 95th CI       :      \", round(InitialInvestment*tVaR,2))\n",
        "print(\"t-dist CVaR 95th CI      :      \", round(InitialInvestment*tCVaR,2))"
      ],
      "metadata": {
        "id": "q56f2JjzmOu1"
      },
      "execution_count": null,
      "outputs": []
    },
    {
      "cell_type": "code",
      "source": [
        "# Monte Carlo Method\n",
        "mc_sims = 400 # number of simulations\n",
        "T = 100 #timeframe in days\n",
        "\n",
        "meanM = np.full(shape=(T, len(weights)), fill_value=meanReturns)\n",
        "meanM = meanM.T\n",
        "\n",
        "portfolio_sims = np.full(shape=(T, mc_sims), fill_value=0.0)\n",
        "\n",
        "initialPortfolio = 10000\n",
        "\n",
        "for m in range(0, mc_sims):\n",
        "    # MC loops\n",
        "    Z = np.random.normal(size=(T, len(weights)))\n",
        "    L = np.linalg.cholesky(covMatrix)\n",
        "    dailyReturns = meanM + np.inner(L, Z)\n",
        "    portfolio_sims[:,m] = np.cumprod(np.inner(weights, dailyReturns.T)+1)*initialPortfolio"
      ],
      "metadata": {
        "id": "_lQMPAx8mP5Z"
      },
      "execution_count": null,
      "outputs": []
    },
    {
      "cell_type": "code",
      "source": [
        "plt.plot(portfolio_sims)\n",
        "plt.ylabel('Portfolio Value ($)')\n",
        "plt.xlabel('Days')\n",
        "plt.title('MC simulation of a stock portfolio')\n",
        "plt.show()"
      ],
      "metadata": {
        "id": "GcZjhaermWDj"
      },
      "execution_count": null,
      "outputs": []
    },
    {
      "cell_type": "code",
      "source": [
        "def mcVaR(returns, alpha=5):\n",
        "    \"\"\" Input: pandas series of returns\n",
        "        Output: percentile on return distribution to a given confidence level alpha\n",
        "    \"\"\"\n",
        "    if isinstance(returns, pd.Series):\n",
        "        return np.percentile(returns, alpha)\n",
        "    else:\n",
        "        raise TypeError(\"Expected a pandas data series.\")\n",
        "\n",
        "def mcCVaR(returns, alpha=5):\n",
        "    \"\"\" Input: pandas series of returns\n",
        "        Output: CVaR or Expected Shortfall to a given confidence level alpha\n",
        "    \"\"\"\n",
        "    if isinstance(returns, pd.Series):\n",
        "        belowVaR = returns <= mcVaR(returns, alpha=alpha)\n",
        "        return returns[belowVaR].mean()\n",
        "    else:\n",
        "        raise TypeError(\"Expected a pandas data series.\")"
      ],
      "metadata": {
        "id": "xurnnfQ0mcAD"
      },
      "execution_count": null,
      "outputs": []
    },
    {
      "cell_type": "code",
      "source": [
        "portResults = pd.Series(portfolio_sims[-1,:])\n",
        "\n",
        "VaR = initialPortfolio - mcVaR(portResults, alpha=5)\n",
        "CVaR = initialPortfolio - mcCVaR(portResults, alpha=5)\n",
        "\n",
        "print('VaR ${}'.format(round(VaR,2)))\n",
        "print('CVaR ${}'.format(round(CVaR,2)))"
      ],
      "metadata": {
        "id": "99d3lGChmhdz"
      },
      "execution_count": null,
      "outputs": []
    },
    {
      "cell_type": "code",
      "source": [
        "print(\"\\nVaR:\")\n",
        "\n",
        "print(' historical VaR 95th CI   :      ', round(InitialInvestment*hVaR,2))\n",
        "print(\" Normal VaR 95th CI       :      \", round(InitialInvestment*normVaR,2))\n",
        "print(\" t-dist VaR 95th CI       :      \", round(InitialInvestment*tVaR,2))\n",
        "print(\" MC VaR  95th CI          :      \", round(VaR,2))\n",
        "\n",
        "\n",
        "print(\"\\nCVaR:\")\n",
        "\n",
        "print(' historical CVaR 95th CI  :      ', round(InitialInvestment*hCVaR,2))\n",
        "print(\" Normal CVaR 95th CI      :      \", round(InitialInvestment*normCVaR,2))\n",
        "print(\" t-dist CVaR 95th CI      :      \", round(InitialInvestment*tCVaR,2))\n",
        "print(\" MC CVaR 95th CI          :      \", round(CVaR,2))"
      ],
      "metadata": {
        "id": "agBNGHAxmpUv"
      },
      "execution_count": null,
      "outputs": []
    }
  ]
}