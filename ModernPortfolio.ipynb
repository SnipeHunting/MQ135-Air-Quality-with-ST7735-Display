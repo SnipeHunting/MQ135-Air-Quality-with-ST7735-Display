{
  "nbformat": 4,
  "nbformat_minor": 0,
  "metadata": {
    "colab": {
      "provenance": [],
      "authorship_tag": "ABX9TyN8AfXvtl57HYW0I/2ao68b",
      "include_colab_link": true
    },
    "kernelspec": {
      "name": "python3",
      "display_name": "Python 3"
    },
    "language_info": {
      "name": "python"
    }
  },
  "cells": [
    {
      "cell_type": "markdown",
      "metadata": {
        "id": "view-in-github",
        "colab_type": "text"
      },
      "source": [
        "<a href=\"https://colab.research.google.com/github/SnipeHunting/MQ135-Air-Quality-with-ST7735-Display/blob/master/ModernPortfolio.ipynb\" target=\"_parent\"><img src=\"https://colab.research.google.com/assets/colab-badge.svg\" alt=\"Open In Colab\"/></a>"
      ]
    },
    {
      "cell_type": "code",
      "source": [
        "#import sys\n",
        "#!{sys.executable} -m pip install yfinance --upgrade --no-cache-dir\n",
        "\n",
        "#!{sys.executable} -m pip install fix_yahoo_finance\n",
        "\n",
        "#!{sys.executable} -m pip install pandas_datareader --upgrade\n",
        "\n",
        "#!{sys.executable} -m pip install numpy --upgrade\n",
        "\n",
        "import pandas as pd\n",
        "\n",
        "import numpy as np\n",
        "import scipy as sc\n",
        "import datetime as dt\n",
        "from pandas_datareader import data as pdr\n",
        "import yfinance as yf\n",
        "yf.pdr_override()"
      ],
      "metadata": {
        "id": "Usb2SvE-yF69"
      },
      "execution_count": 101,
      "outputs": []
    },
    {
      "cell_type": "code",
      "execution_count": 104,
      "metadata": {
        "id": "654gNjVYvrb4"
      },
      "outputs": [],
      "source": [
        "# Import data\n",
        "def getData(stocks, start, end):\n",
        "    stockData = pdr.get_data_yahoo(stocks, start=start, end=end)\n",
        "    stockData = stockData['Close']\n",
        "\n",
        "    returns = stockData.pct_change()\n",
        "    meanReturns = returns.mean()\n",
        "    covMatrix = returns.cov()\n",
        "    return meanReturns, covMatrix\n",
        "\n",
        "\n",
        "stockList = ['CVX', 'NOC', 'MCD']\n",
        "stocks = [stock+'' for stock in stockList] # for none US stocks\n",
        "\n",
        "endDate = dt.datetime.now()\n",
        "startDate = endDate-dt.timedelta(days=800)\n"
      ]
    },
    {
      "cell_type": "code",
      "source": [
        "def portfolioPerformance(weights, meanReturns, covMatrix):\n",
        "    returns = np.sum(meanReturns*weights)*252\n",
        "    std = np.sqrt(\n",
        "            np.dot(weights.T,np.dot(covMatrix, weights))\n",
        "           )*np.sqrt(252) # W transpose * sigma of W\n",
        "    return returns, std"
      ],
      "metadata": {
        "id": "8-QZ8Y-yxMpp"
      },
      "execution_count": 116,
      "outputs": []
    },
    {
      "cell_type": "code",
      "source": [
        "def negativeSR(weights, meanReturns, covMatrix, riskFreeRate = 0):  #negative sharp ratio.   Need to update the riskFreeInrerest\n",
        "    pReturns, pStd = portfolioPerformance(weights, meanReturns, covMatrix)\n",
        "    return - (pReturns - riskFreeRate)/pStd  # will give the negative sharp ratio\n",
        "\n",
        "def maxSR(meanReturns, covMatrix, riskFreeRate = 0, constraintSet=(0,1)):  #constraint for now is between 0 and 1\n",
        "    \"Minimize the negative SR, by altering the weights of the portfolio\"\n",
        "    numAssets = len(meanReturns) # checks the number of stocks \n",
        "    args = (meanReturns, covMatrix, riskFreeRate)\n",
        "    constraints = ({'type': 'eq', 'fun': lambda x: np.sum(x) - 1}) # checking that all the summation are equal to 1\n",
        "    bound = constraintSet\n",
        "    bounds = tuple(bound for asset in range(numAssets))\n",
        "    result = sc.optimize.minimize(negativeSR, numAssets*[1./numAssets], args=args,\n",
        "                        method='SLSQP', bounds=bounds, constraints=constraints) # sequantial least square .  First guess is making all weigths equal\n",
        "    return result\n",
        "\n",
        "#  weights = np.array([0.3,0.3,0.4])\n",
        "\n",
        "meanReturns, covMatrix = getData(stocks,start=startDate, end=endDate)\n",
        "#  returns, std = portfolioPerformance(weights, meanReturns,covMatrix)\n",
        "\n",
        "result = maxSR(meanReturns, covMatrix)\n",
        "maxSR,maxWeights = result['fun'], result['x']\n",
        "\n",
        "print(maxSR,maxWeights) # maximize sharp ratio by changing the assets allocations (trade off between return and volatility)"
      ],
      "metadata": {
        "colab": {
          "base_uri": "https://localhost:8080/"
        },
        "id": "ZjGaTSbExTma",
        "outputId": "72177877-e12c-4104-905d-aef3c2ce4f22"
      },
      "execution_count": 112,
      "outputs": [
        {
          "output_type": "stream",
          "name": "stdout",
          "text": [
            "[*********************100%***********************]  3 of 3 completed\n",
            "-1.298919167881744 [0.46662021 0.33502087 0.19835892]\n"
          ]
        }
      ]
    },
    {
      "cell_type": "markdown",
      "source": [
        "#Minimium Portfolio Variance"
      ],
      "metadata": {
        "id": "SOgeuIJZxVrz"
      }
    },
    {
      "cell_type": "code",
      "source": [
        "def portfolioVariance(weights, meanReturns, covMatrix):\n",
        "    return portfolioPerformance(weights, meanReturns, covMatrix)[1]\n",
        "\n",
        "def minimizeVariance(meanReturns, covMatrix, constraintSet=(0,1)):\n",
        "    \"\"\"Minimize the portfolio variance by altering the \n",
        "     weights/allocation of assets in the portfolio\"\"\"\n",
        "    numAssets = len(meanReturns)\n",
        "    args = (meanReturns, covMatrix)\n",
        "    constraints = ({'type': 'eq', 'fun': lambda x: np.sum(x) - 1})\n",
        "    bound = constraintSet\n",
        "    bounds = tuple(bound for asset in range(numAssets))\n",
        "    result = sc.optimize.minimize(portfolioVariance, numAssets*[1./numAssets], args=args,\n",
        "                        method='SLSQP', bounds=bounds, constraints=constraints)\n",
        "    return result\n",
        "\n",
        "minVarResult = minimizeVariance(meanReturns, covMatrix)\n",
        "minVar,minVarWeights = minVarResult['fun'], minVarResult['x']\n",
        "print(minVar,minVarWeights) # provides the allocation for minimum variablity portfolio"
      ],
      "metadata": {
        "colab": {
          "base_uri": "https://localhost:8080/"
        },
        "id": "cs3lsKipxZm0",
        "outputId": "8aa2d980-e8bc-4926-fa24-5d1099fcce51"
      },
      "execution_count": 115,
      "outputs": [
        {
          "output_type": "stream",
          "name": "stdout",
          "text": [
            "0.15467780834841327 [0.15881572 0.65130219 0.18988209]\n"
          ]
        }
      ]
    },
    {
      "cell_type": "markdown",
      "source": [
        "#Creating the Efficient Frontier"
      ],
      "metadata": {
        "id": "Fk7yNrkJxdbQ"
      }
    },
    {
      "cell_type": "code",
      "source": [
        "def portfolioReturn(weights, meanReturns, covMatrix):\n",
        "        return portfolioPerformance(weights, meanReturns, covMatrix)[0]\n",
        "\n",
        "\n",
        "def efficientOpt(meanReturns, covMatrix, returnTarget, constraintSet=(0,1)):\n",
        "    \"\"\"For each returnTarget, we want to optimise the portfolio for min variance\"\"\"\n",
        "    numAssets = len(meanReturns)\n",
        "    args = (meanReturns, covMatrix)\n",
        "\n",
        "    constraints = ({'type':'eq', 'fun': lambda x: portfolioReturn(x, meanReturns, covMatrix) - returnTarget},\n",
        "                    {'type': 'eq', 'fun': lambda x: np.sum(x) - 1})\n",
        "    bound = constraintSet\n",
        "    bounds = tuple(bound for asset in range(numAssets))\n",
        "    effOpt = sc.minimize(portfolioVariance, numAssets*[1./numAssets], args=args, method = 'SLSQP', bounds=bounds, constraints=constraints)\n",
        "    return effOpt"
      ],
      "metadata": {
        "id": "rMTbqulqxh8i"
      },
      "execution_count": 108,
      "outputs": []
    },
    {
      "cell_type": "markdown",
      "source": [
        "##Use a return function that could be called by a graphing package like Plotly/Dash combination."
      ],
      "metadata": {
        "id": "BTNJr5kfxn71"
      }
    },
    {
      "cell_type": "code",
      "source": [
        "def calculatedResults(meanReturns, covMatrix, riskFreeRate=0, constraintSet=(0,1)):\n",
        "    \"\"\"Read in mean, cov matrix, and other financial information\n",
        "        Output, Max SR , Min Volatility, efficient frontier \"\"\"\n",
        "    # Max Sharpe Ratio Portfolio\n",
        "    maxSR_Portfolio = maxSR(meanReturns, covMatrix)\n",
        "    maxSR_returns, maxSR_std = portfolioPerformance(maxSR_Portfolio['x'], meanReturns, covMatrix)\n",
        "    maxSR_returns, maxSR_std = round(maxSR_returns*100,2), round(maxSR_std*100,2)\n",
        "    maxSR_allocation = pd.DataFrame(maxSR_Portfolio['x'], index=meanReturns.index, columns=['allocation'])\n",
        "    maxSR_allocation.allocation = [round(i*100,0) for i in maxSR_allocation.allocation] # to round decimal values\n",
        "    \n",
        "    # Min Volatility Portfolio\n",
        "    minVol_Portfolio = minimizeVariance(meanReturns, covMatrix)\n",
        "    minVol_returns, minVol_std = portfolioPerformance(minVol_Portfolio['x'], meanReturns, covMatrix)\n",
        "    minVol_returns, minVol_std = round(minVol_returns*100,2), round(minVol_std*100,2)\n",
        "    minVol_allocation = pd.DataFrame(minVol_Portfolio['x'], index=meanReturns.index, columns=['allocation'])\n",
        "    minVol_allocation.allocation = [round(i*100,0) for i in minVol_allocation.allocation]\n",
        "\n",
        "    # Efficient Frontier\n",
        "    efficientList = []\n",
        "    targetReturns = np.linspace(minVol_returns, maxSR_returns, 20)\n",
        "    for target in targetReturns:\n",
        "        efficientList.append(efficientOpt(meanReturns, covMatrix, target)['fun'])\n",
        "\n",
        "    return maxSR_returns, maxSR_std, maxSR_allocation, minVol_returns, minVol_std, minVol_allocation, efficientList\n",
        "\n",
        "print(calculatedResults(meanReturns, covMatrix))\n"
      ],
      "metadata": {
        "colab": {
          "base_uri": "https://localhost:8080/",
          "height": 388
        },
        "id": "QBnBRQ3qxpfJ",
        "outputId": "f4aacde0-5470-4a50-9ac0-b51ee9d78dea"
      },
      "execution_count": 117,
      "outputs": [
        {
          "output_type": "error",
          "ename": "TypeError",
          "evalue": "ignored",
          "traceback": [
            "\u001b[0;31m---------------------------------------------------------------------------\u001b[0m",
            "\u001b[0;31mTypeError\u001b[0m                                 Traceback (most recent call last)",
            "\u001b[0;32m<ipython-input-117-efccb4066fee>\u001b[0m in \u001b[0;36m<module>\u001b[0;34m\u001b[0m\n\u001b[1;32m     24\u001b[0m     \u001b[0;32mreturn\u001b[0m \u001b[0mmaxSR_returns\u001b[0m\u001b[0;34m,\u001b[0m \u001b[0mmaxSR_std\u001b[0m\u001b[0;34m,\u001b[0m \u001b[0mmaxSR_allocation\u001b[0m\u001b[0;34m,\u001b[0m \u001b[0mminVol_returns\u001b[0m\u001b[0;34m,\u001b[0m \u001b[0mminVol_std\u001b[0m\u001b[0;34m,\u001b[0m \u001b[0mminVol_allocation\u001b[0m\u001b[0;34m,\u001b[0m \u001b[0mefficientList\u001b[0m\u001b[0;34m\u001b[0m\u001b[0;34m\u001b[0m\u001b[0m\n\u001b[1;32m     25\u001b[0m \u001b[0;34m\u001b[0m\u001b[0m\n\u001b[0;32m---> 26\u001b[0;31m \u001b[0mprint\u001b[0m\u001b[0;34m(\u001b[0m\u001b[0mcalculatedResults\u001b[0m\u001b[0;34m(\u001b[0m\u001b[0mmeanReturns\u001b[0m\u001b[0;34m,\u001b[0m \u001b[0mcovMatrix\u001b[0m\u001b[0;34m)\u001b[0m\u001b[0;34m)\u001b[0m\u001b[0;34m\u001b[0m\u001b[0;34m\u001b[0m\u001b[0m\n\u001b[0m",
            "\u001b[0;32m<ipython-input-117-efccb4066fee>\u001b[0m in \u001b[0;36mcalculatedResults\u001b[0;34m(meanReturns, covMatrix, riskFreeRate, constraintSet)\u001b[0m\n\u001b[1;32m      3\u001b[0m         Output, Max SR , Min Volatility, efficient frontier \"\"\"\n\u001b[1;32m      4\u001b[0m     \u001b[0;31m# Max Sharpe Ratio Portfolio\u001b[0m\u001b[0;34m\u001b[0m\u001b[0;34m\u001b[0m\u001b[0;34m\u001b[0m\u001b[0m\n\u001b[0;32m----> 5\u001b[0;31m     \u001b[0mmaxSR_Portfolio\u001b[0m \u001b[0;34m=\u001b[0m \u001b[0mmaxSR\u001b[0m\u001b[0;34m(\u001b[0m\u001b[0mmeanReturns\u001b[0m\u001b[0;34m,\u001b[0m \u001b[0mcovMatrix\u001b[0m\u001b[0;34m)\u001b[0m\u001b[0;34m\u001b[0m\u001b[0;34m\u001b[0m\u001b[0m\n\u001b[0m\u001b[1;32m      6\u001b[0m     \u001b[0mmaxSR_returns\u001b[0m\u001b[0;34m,\u001b[0m \u001b[0mmaxSR_std\u001b[0m \u001b[0;34m=\u001b[0m \u001b[0mportfolioPerformance\u001b[0m\u001b[0;34m(\u001b[0m\u001b[0mmaxSR_Portfolio\u001b[0m\u001b[0;34m[\u001b[0m\u001b[0;34m'x'\u001b[0m\u001b[0;34m]\u001b[0m\u001b[0;34m,\u001b[0m \u001b[0mmeanReturns\u001b[0m\u001b[0;34m,\u001b[0m \u001b[0mcovMatrix\u001b[0m\u001b[0;34m)\u001b[0m\u001b[0;34m\u001b[0m\u001b[0;34m\u001b[0m\u001b[0m\n\u001b[1;32m      7\u001b[0m     \u001b[0mmaxSR_returns\u001b[0m\u001b[0;34m,\u001b[0m \u001b[0mmaxSR_std\u001b[0m \u001b[0;34m=\u001b[0m \u001b[0mround\u001b[0m\u001b[0;34m(\u001b[0m\u001b[0mmaxSR_returns\u001b[0m\u001b[0;34m*\u001b[0m\u001b[0;36m100\u001b[0m\u001b[0;34m,\u001b[0m\u001b[0;36m2\u001b[0m\u001b[0;34m)\u001b[0m\u001b[0;34m,\u001b[0m \u001b[0mround\u001b[0m\u001b[0;34m(\u001b[0m\u001b[0mmaxSR_std\u001b[0m\u001b[0;34m*\u001b[0m\u001b[0;36m100\u001b[0m\u001b[0;34m,\u001b[0m\u001b[0;36m2\u001b[0m\u001b[0;34m)\u001b[0m\u001b[0;34m\u001b[0m\u001b[0;34m\u001b[0m\u001b[0m\n",
            "\u001b[0;31mTypeError\u001b[0m: 'numpy.float64' object is not callable"
          ]
        }
      ]
    },
    {
      "cell_type": "markdown",
      "source": [
        "#Visualising the Efficient Frontier"
      ],
      "metadata": {
        "id": "rv9YdlxWxv-E"
      }
    },
    {
      "cell_type": "markdown",
      "source": [],
      "metadata": {
        "id": "xVXU_BsBFcFX"
      }
    },
    {
      "cell_type": "code",
      "source": [
        "def EF_graph(meanReturns, covMatrix, riskFreeRate=0, constraintSet=(0,1)):\n",
        "    \"\"\"Return a graph ploting the min vol, max sr and efficient frontier\"\"\"\n",
        "    maxSR_returns, maxSR_std, maxSR_allocation, minVol_returns, minVol_std, minVol_allocation, efficientList, targetReturns = calculatedResults(meanReturns, covMatrix, riskFreeRate, constraintSet)\n",
        "\n",
        "    #Max SR\n",
        "    MaxSharpeRatio = go.Scatter(\n",
        "        name='Maximium Sharpe Ratio',\n",
        "        mode='markers',\n",
        "        x=[maxSR_std],\n",
        "        y=[maxSR_returns],\n",
        "        marker=dict(color='red',size=14,line=dict(width=3, color='black'))\n",
        "    )\n",
        "\n",
        "    #Min Vol\n",
        "    MinVol = go.Scatter(\n",
        "        name='Mininium Volatility',\n",
        "        mode='markers',\n",
        "        x=[minVol_std],\n",
        "        y=[minVol_returns],\n",
        "        marker=dict(color='green',size=14,line=dict(width=3, color='black'))\n",
        "    )\n",
        "\n",
        "    #Efficient Frontier\n",
        "    EF_curve = go.Scatter(\n",
        "        name='Efficient Frontier',\n",
        "        mode='lines',\n",
        "        x=[round(ef_std*100, 2) for ef_std in efficientList],\n",
        "        y=[round(target*100, 2) for target in targetReturns],\n",
        "        line=dict(color='black', width=4, dash='dashdot')\n",
        "    )\n",
        "\n",
        "    data = [MaxSharpeRatio, MinVol, EF_curve]\n",
        "\n",
        "    layout = go.Layout(\n",
        "        title = 'Portfolio Optimisation with the Efficient Frontier',\n",
        "        yaxis = dict(title='Annualised Return (%)'),\n",
        "        xaxis = dict(title='Annualised Volatility (%)'),\n",
        "        showlegend = True,\n",
        "        legend = dict(\n",
        "            x = 0.75, y = 0, traceorder='normal',\n",
        "            bgcolor='#E2E2E2',\n",
        "            bordercolor='black',\n",
        "            borderwidth=2),\n",
        "        width=800,\n",
        "        height=600)\n",
        "    \n",
        "    fig = go.Figure(data=data, layout=layout)\n",
        "    return fig.show()"
      ],
      "metadata": {
        "id": "99uUClRDxx2Z"
      },
      "execution_count": 81,
      "outputs": []
    }
  ]
}