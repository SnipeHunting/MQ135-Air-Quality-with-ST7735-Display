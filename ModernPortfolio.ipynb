{
  "nbformat": 4,
  "nbformat_minor": 0,
  "metadata": {
    "colab": {
      "provenance": [],
      "authorship_tag": "ABX9TyO5jcIPN/4QRFhPHOC2vVq2",
      "include_colab_link": true
    },
    "kernelspec": {
      "name": "python3",
      "display_name": "Python 3"
    },
    "language_info": {
      "name": "python"
    }
  },
  "cells": [
    {
      "cell_type": "markdown",
      "metadata": {
        "id": "view-in-github",
        "colab_type": "text"
      },
      "source": [
        "<a href=\"https://colab.research.google.com/github/SnipeHunting/MQ135-Air-Quality-with-ST7735-Display/blob/master/ModernPortfolio.ipynb\" target=\"_parent\"><img src=\"https://colab.research.google.com/assets/colab-badge.svg\" alt=\"Open In Colab\"/></a>"
      ]
    },
    {
      "cell_type": "code",
      "source": [
        "#import sys\n",
        "#!{sys.executable} -m pip install yfinance --upgrade --no-cache-dir\n",
        "\n",
        "#!{sys.executable} -m pip install fix_yahoo_finance\n",
        "\n",
        "#!{sys.executable} -m pip install pandas_datareader --upgrade\n",
        "\n",
        "#!{sys.executable} -m pip install numpy --upgrade\n",
        "\n",
        "#!{sys.executable} -m pip install pybind11\n",
        "\n",
        "#!{sys.executable} -m pip install riskfolio-lib\n",
        "\n",
        "import pandas as pd\n",
        "\n",
        "import numpy as np\n",
        "import scipy as sc\n",
        "from scipy import optimize\n",
        "import datetime as dt\n",
        "from pandas_datareader import data as pdr\n",
        "import yfinance as yf\n",
        "import plotly.graph_objects as go\n",
        "import sklearn.metrics as metrics\n",
        "import riskfolio as rp\n",
        "yf.pdr_override()"
      ],
      "metadata": {
        "id": "Usb2SvE-yF69"
      },
      "execution_count": 44,
      "outputs": []
    },
    {
      "cell_type": "code",
      "execution_count": 8,
      "metadata": {
        "id": "654gNjVYvrb4"
      },
      "outputs": [],
      "source": [
        "# Import data\n",
        "def getData(stocks, start, end):\n",
        "    stockData = pdr.get_data_yahoo(stocks, start=start, end=end)\n",
        "    stockData = stockData['Close']\n",
        "\n",
        "    returns = stockData.pct_change()\n",
        "    meanReturns = returns.mean()\n",
        "    covMatrix = returns.cov()\n",
        "    return meanReturns, covMatrix\n",
        "\n",
        "\n",
        "stockList = ['CVX', 'AOS', 'MCD', 'INTC', 'F', 'MSFT']\n",
        "stocks = [stock+'' for stock in stockList] # for none US stocks\n",
        "\n",
        "endDate = dt.datetime.now()\n",
        "startDate = endDate-dt.timedelta(days=800)\n"
      ]
    },
    {
      "cell_type": "code",
      "source": [
        "def portfolioPerformance(weights, meanReturns, covMatrix):\n",
        "    returns = np.sum(meanReturns*weights)*252\n",
        "    std = np.sqrt(\n",
        "            np.dot(weights.T,np.dot(covMatrix, weights))\n",
        "           )*np.sqrt(252) # W transpose * sigma of W\n",
        "    return returns, std"
      ],
      "metadata": {
        "id": "8-QZ8Y-yxMpp"
      },
      "execution_count": 9,
      "outputs": []
    },
    {
      "cell_type": "code",
      "source": [
        "def negativeSR(weights, meanReturns, covMatrix, riskFreeRate = 0.05):  #negative sharp ratio.   Need to update the riskFreeInrerest\n",
        "    pReturns, pStd = portfolioPerformance(weights, meanReturns, covMatrix)\n",
        "    return - (pReturns - riskFreeRate)/pStd  # will give the negative sharp ratio\n",
        "\n",
        "def maxSR(meanReturns, covMatrix, riskFreeRate = 0.05, constraintSet=(0,1)):  #constraint for now is between 0 and 1\n",
        "    \"Minimize the negative SR, by altering the weights of the portfolio\"\n",
        "    numAssets = len(meanReturns) # checks the number of stocks \n",
        "    args = (meanReturns, covMatrix, riskFreeRate)\n",
        "    constraints = ({'type': 'eq', 'fun': lambda x: np.sum(x) - 1}) # checking that all the summation are equal to 1\n",
        "    bound = constraintSet\n",
        "    bounds = tuple(bound for asset in range(numAssets))\n",
        "    result = sc.optimize.minimize(negativeSR, numAssets*[1./numAssets], args=args,\n",
        "                        method='SLSQP', bounds=bounds, constraints=constraints) # sequantial least square .  First guess is making all weigths equal\n",
        "    return result\n",
        "\n",
        "#  weights = np.array([0.3,0.3,0.4])\n",
        "\n",
        "meanReturns, covMatrix = getData(stocks,start=startDate, end=endDate)\n",
        "#  returns, std = portfolioPerformance(weights, meanReturns,covMatrix)\n",
        "\n",
        "result = maxSR(meanReturns, covMatrix)\n",
        "#maxSR,maxWeights = result['fun'], result['x']\n",
        "\n",
        "#print(maxSR,maxWeights) # maximize sharp ratio by changing the assets allocations (trade off between return and volatility)"
      ],
      "metadata": {
        "colab": {
          "base_uri": "https://localhost:8080/"
        },
        "id": "ZjGaTSbExTma",
        "outputId": "3ee7d2bd-9b2d-4c0b-921e-07a96fbb001c"
      },
      "execution_count": 10,
      "outputs": [
        {
          "output_type": "stream",
          "name": "stdout",
          "text": [
            "[*********************100%***********************]  6 of 6 completed\n"
          ]
        }
      ]
    },
    {
      "cell_type": "markdown",
      "source": [
        "#Minimium Portfolio Variance"
      ],
      "metadata": {
        "id": "SOgeuIJZxVrz"
      }
    },
    {
      "cell_type": "code",
      "source": [
        "def portfolioVariance(weights, meanReturns, covMatrix):\n",
        "    return portfolioPerformance(weights, meanReturns, covMatrix)[1]\n",
        "\n",
        "def minimizeVariance(meanReturns, covMatrix, constraintSet=(0,1)):\n",
        "    \"\"\"Minimize the portfolio variance by altering the \n",
        "     weights/allocation of assets in the portfolio\"\"\"\n",
        "    numAssets = len(meanReturns)\n",
        "    args = (meanReturns, covMatrix)\n",
        "    constraints = ({'type': 'eq', 'fun': lambda x: np.sum(x) - 1})\n",
        "    bound = constraintSet\n",
        "    bounds = tuple(bound for asset in range(numAssets))\n",
        "    result = sc.optimize.minimize(portfolioVariance, numAssets*[1./numAssets], args=args,\n",
        "                        method='SLSQP', bounds=bounds, constraints=constraints)\n",
        "    return result\n",
        "\n",
        "minVarResult = minimizeVariance(meanReturns, covMatrix)\n",
        "minVar,minVarWeights = minVarResult['fun'], minVarResult['x']\n",
        "print(minVar,minVarWeights) # provides the allocation for minimum variablity portfolio"
      ],
      "metadata": {
        "colab": {
          "base_uri": "https://localhost:8080/"
        },
        "id": "cs3lsKipxZm0",
        "outputId": "39b77d50-2f5c-467e-9451-c65bbb196e8c"
      },
      "execution_count": 11,
      "outputs": [
        {
          "output_type": "stream",
          "name": "stdout",
          "text": [
            "0.1590823586989816 [0.08663498 0.19121254 0.         0.         0.66515985 0.05699263]\n"
          ]
        }
      ]
    },
    {
      "cell_type": "markdown",
      "source": [
        "#Creating the Efficient Frontier"
      ],
      "metadata": {
        "id": "Fk7yNrkJxdbQ"
      }
    },
    {
      "cell_type": "code",
      "source": [
        "def portfolioReturn(weights, meanReturns, covMatrix):\n",
        "        return portfolioPerformance(weights, meanReturns, covMatrix)[0]\n",
        "\n",
        "\n",
        "def efficientOpt(meanReturns, covMatrix, returnTarget, constraintSet=(0,1)):\n",
        "    \"\"\"For each returnTarget, we want to optimise the portfolio for min variance\"\"\"\n",
        "    numAssets = len(meanReturns)\n",
        "    args = (meanReturns, covMatrix)\n",
        "\n",
        "    constraints = ({'type':'eq', 'fun': lambda x: portfolioReturn(x, meanReturns, covMatrix) - returnTarget},\n",
        "                    {'type': 'eq', 'fun': lambda x: np.sum(x) - 1})\n",
        "    bound = constraintSet\n",
        "    bounds = tuple(bound for asset in range(numAssets))\n",
        "    effOpt = sc.optimize.minimize(portfolioVariance, numAssets*[1./numAssets], args=args, method = 'SLSQP', bounds=bounds, constraints=constraints)\n",
        "    return effOpt"
      ],
      "metadata": {
        "id": "rMTbqulqxh8i"
      },
      "execution_count": 12,
      "outputs": []
    },
    {
      "cell_type": "markdown",
      "source": [
        "##Use a return function that could be called by a graphing package like Plotly/Dash combination."
      ],
      "metadata": {
        "id": "BTNJr5kfxn71"
      }
    },
    {
      "cell_type": "code",
      "source": [
        "def calculatedResults(meanReturns, covMatrix, riskFreeRate=0, constraintSet=(0,1)):\n",
        "    \"\"\"Read in mean, cov matrix, and other financial information\n",
        "        Output, Max SR , Min Volatility, efficient frontier \"\"\"\n",
        "    # Max Sharpe Ratio Portfolio\n",
        "    maxSR_Portfolio = maxSR(meanReturns, covMatrix)\n",
        "    maxSR_returns, maxSR_std = portfolioPerformance(maxSR_Portfolio['x'], meanReturns, covMatrix)\n",
        "\n",
        "    maxSR_allocation = pd.DataFrame(maxSR_Portfolio['x'], index=meanReturns.index, columns=['allocation'])\n",
        "    maxSR_allocation.allocation = [round(i*100,0) for i in maxSR_allocation.allocation] # to round decimal values\n",
        "    \n",
        "    # Min Volatility Portfolio\n",
        "    minVol_Portfolio = minimizeVariance(meanReturns, covMatrix)\n",
        "    minVol_returns, minVol_std = portfolioPerformance(minVol_Portfolio['x'], meanReturns, covMatrix)\n",
        "\n",
        "    minVol_allocation = pd.DataFrame(minVol_Portfolio['x'], index=meanReturns.index, columns=['allocation'])\n",
        "    minVol_allocation.allocation = [round(i*100,0) for i in minVol_allocation.allocation]\n",
        "\n",
        "    # Efficient Frontier\n",
        "    efficientList = []\n",
        "    targetReturns = np.linspace(minVol_returns, maxSR_returns, 20) # define the number of points in the curve\n",
        "    for target in targetReturns:\n",
        "        efficientList.append(efficientOpt(meanReturns, covMatrix, target)['fun'])\n",
        "\n",
        "    maxSR_returns, maxSR_std = round(maxSR_returns*100,2), round(maxSR_std*100,2)\n",
        "    minVol_returns, minVol_std = round(minVol_returns*100,2), round(minVol_std*100,2)\n",
        "\n",
        "    return maxSR_returns, maxSR_std, maxSR_allocation, minVol_returns, minVol_std, minVol_allocation, efficientList, targetReturns\n",
        "\n",
        "\n",
        "print(calculatedResults(meanReturns, covMatrix))\n"
      ],
      "metadata": {
        "colab": {
          "base_uri": "https://localhost:8080/"
        },
        "id": "QBnBRQ3qxpfJ",
        "outputId": "a8114e5d-4dfd-4790-b004-dcdaa59fdd20"
      },
      "execution_count": 13,
      "outputs": [
        {
          "output_type": "stream",
          "name": "stdout",
          "text": [
            "(29.01, 24.14,       allocation\n",
            "AOS          0.0\n",
            "CVX         72.0\n",
            "F           10.0\n",
            "INTC         0.0\n",
            "MCD         18.0\n",
            "MSFT         0.0, 15.2, 15.91,       allocation\n",
            "AOS          9.0\n",
            "CVX         19.0\n",
            "F            0.0\n",
            "INTC         0.0\n",
            "MCD         67.0\n",
            "MSFT         6.0, [0.1590825332337113, 0.15937497172487655, 0.16025329606715075, 0.16170852863190657, 0.1637250342875601, 0.16628243845379415, 0.16935063200693853, 0.17283337973184, 0.17668672227165907, 0.18090580036441414, 0.18550961409670044, 0.19049910412560214, 0.19585829237984148, 0.20155698774197883, 0.20756778415380012, 0.2138641020441032, 0.22042157481780306, 0.2272175591838528, 0.23423132612385514, 0.2414438598868374], array([0.15203976, 0.15930656, 0.16657336, 0.17384016, 0.18110696,\n",
            "       0.18837376, 0.19564056, 0.20290736, 0.21017416, 0.21744096,\n",
            "       0.22470776, 0.23197456, 0.23924136, 0.24650816, 0.25377496,\n",
            "       0.26104176, 0.26830856, 0.27557535, 0.28284215, 0.29010895]))\n"
          ]
        }
      ]
    },
    {
      "cell_type": "markdown",
      "source": [
        "#Visualising the Efficient Frontier"
      ],
      "metadata": {
        "id": "rv9YdlxWxv-E"
      }
    },
    {
      "cell_type": "code",
      "source": [
        "def EF_graph(meanReturns, covMatrix, riskFreeRate=0, constraintSet=(0,1)):\n",
        "    \"\"\"Return a graph ploting the min vol, max sr and efficient frontier\"\"\"\n",
        "    maxSR_returns, maxSR_std, maxSR_allocation, minVol_returns, minVol_std, minVol_allocation, efficientList, targetReturns = calculatedResults(meanReturns, covMatrix, riskFreeRate, constraintSet)\n",
        "\n",
        "    #Max SR\n",
        "    MaxSharpeRatio = go.Scatter(\n",
        "        name='Maximium Sharpe Ratio',\n",
        "        mode='markers',\n",
        "        x=[maxSR_std],\n",
        "        y=[maxSR_returns],\n",
        "        marker=dict(color='red',size=14,line=dict(width=3, color='black'))\n",
        "    )\n",
        "\n",
        "    #Min Vol\n",
        "    MinVol = go.Scatter(\n",
        "        name='Mininium Volatility',\n",
        "        mode='markers',\n",
        "        x=[minVol_std],\n",
        "        y=[minVol_returns],\n",
        "        marker=dict(color='green',size=14,line=dict(width=3, color='black'))\n",
        "    )\n",
        "\n",
        "    #Efficient Frontier\n",
        "    EF_curve = go.Scatter(\n",
        "        name='Efficient Frontier',\n",
        "        mode='lines',\n",
        "        x=[round(ef_std*100, 2) for ef_std in efficientList],\n",
        "        y=[round(target*100, 2) for target in targetReturns],\n",
        "        line=dict(color='black', width=4, dash='dashdot')\n",
        "    )\n",
        "\n",
        "    data = [MaxSharpeRatio, MinVol, EF_curve]\n",
        "\n",
        "    layout = go.Layout(\n",
        "        title = 'Portfolio Optimisation with the Efficient Frontier',\n",
        "        yaxis = dict(title='Annualised Return (%)'),\n",
        "        xaxis = dict(title='Annualised Volatility (%)'),\n",
        "        showlegend = True,\n",
        "        legend = dict(\n",
        "            x = 0.75, y = 0, traceorder='normal',\n",
        "            bgcolor='#E2E2E2',\n",
        "            bordercolor='black',\n",
        "            borderwidth=2),\n",
        "        width=800,\n",
        "        height=600)\n",
        "    \n",
        "    fig = go.Figure(data=data, layout=layout)\n",
        "    return fig.show()"
      ],
      "metadata": {
        "id": "99uUClRDxx2Z"
      },
      "execution_count": 14,
      "outputs": []
    },
    {
      "cell_type": "code",
      "source": [
        "EF_graph(meanReturns, covMatrix)"
      ],
      "metadata": {
        "colab": {
          "base_uri": "https://localhost:8080/",
          "height": 617
        },
        "id": "yLHVwiwMn17_",
        "outputId": "12acaa1d-e64c-43e7-a5fe-4617b8264f8c"
      },
      "execution_count": 15,
      "outputs": [
        {
          "output_type": "display_data",
          "data": {
            "text/html": [
              "<html>\n",
              "<head><meta charset=\"utf-8\" /></head>\n",
              "<body>\n",
              "    <div>            <script src=\"https://cdnjs.cloudflare.com/ajax/libs/mathjax/2.7.5/MathJax.js?config=TeX-AMS-MML_SVG\"></script><script type=\"text/javascript\">if (window.MathJax) {MathJax.Hub.Config({SVG: {font: \"STIX-Web\"}});}</script>                <script type=\"text/javascript\">window.PlotlyConfig = {MathJaxConfig: 'local'};</script>\n",
              "        <script src=\"https://cdn.plot.ly/plotly-2.8.3.min.js\"></script>                <div id=\"38393824-a831-49a4-90cb-b24b61148b83\" class=\"plotly-graph-div\" style=\"height:600px; width:800px;\"></div>            <script type=\"text/javascript\">                                    window.PLOTLYENV=window.PLOTLYENV || {};                                    if (document.getElementById(\"38393824-a831-49a4-90cb-b24b61148b83\")) {                    Plotly.newPlot(                        \"38393824-a831-49a4-90cb-b24b61148b83\",                        [{\"marker\":{\"color\":\"red\",\"line\":{\"color\":\"black\",\"width\":3},\"size\":14},\"mode\":\"markers\",\"name\":\"Maximium Sharpe Ratio\",\"x\":[24.14],\"y\":[29.01],\"type\":\"scatter\"},{\"marker\":{\"color\":\"green\",\"line\":{\"color\":\"black\",\"width\":3},\"size\":14},\"mode\":\"markers\",\"name\":\"Mininium Volatility\",\"x\":[15.91],\"y\":[15.2],\"type\":\"scatter\"},{\"line\":{\"color\":\"black\",\"dash\":\"dashdot\",\"width\":4},\"mode\":\"lines\",\"name\":\"Efficient Frontier\",\"x\":[15.91,15.94,16.03,16.17,16.37,16.63,16.94,17.28,17.67,18.09,18.55,19.05,19.59,20.16,20.76,21.39,22.04,22.72,23.42,24.14],\"y\":[15.2,15.93,16.66,17.38,18.11,18.84,19.56,20.29,21.02,21.74,22.47,23.2,23.92,24.65,25.38,26.1,26.83,27.56,28.28,29.01],\"type\":\"scatter\"}],                        {\"height\":600,\"legend\":{\"bgcolor\":\"#E2E2E2\",\"bordercolor\":\"black\",\"borderwidth\":2,\"traceorder\":\"normal\",\"x\":0.75,\"y\":0},\"showlegend\":true,\"title\":{\"text\":\"Portfolio Optimisation with the Efficient Frontier\"},\"width\":800,\"xaxis\":{\"title\":{\"text\":\"Annualised Volatility (%)\"}},\"yaxis\":{\"title\":{\"text\":\"Annualised Return (%)\"}},\"template\":{\"data\":{\"bar\":[{\"error_x\":{\"color\":\"#2a3f5f\"},\"error_y\":{\"color\":\"#2a3f5f\"},\"marker\":{\"line\":{\"color\":\"#E5ECF6\",\"width\":0.5},\"pattern\":{\"fillmode\":\"overlay\",\"size\":10,\"solidity\":0.2}},\"type\":\"bar\"}],\"barpolar\":[{\"marker\":{\"line\":{\"color\":\"#E5ECF6\",\"width\":0.5},\"pattern\":{\"fillmode\":\"overlay\",\"size\":10,\"solidity\":0.2}},\"type\":\"barpolar\"}],\"carpet\":[{\"aaxis\":{\"endlinecolor\":\"#2a3f5f\",\"gridcolor\":\"white\",\"linecolor\":\"white\",\"minorgridcolor\":\"white\",\"startlinecolor\":\"#2a3f5f\"},\"baxis\":{\"endlinecolor\":\"#2a3f5f\",\"gridcolor\":\"white\",\"linecolor\":\"white\",\"minorgridcolor\":\"white\",\"startlinecolor\":\"#2a3f5f\"},\"type\":\"carpet\"}],\"choropleth\":[{\"colorbar\":{\"outlinewidth\":0,\"ticks\":\"\"},\"type\":\"choropleth\"}],\"contour\":[{\"colorbar\":{\"outlinewidth\":0,\"ticks\":\"\"},\"colorscale\":[[0.0,\"#0d0887\"],[0.1111111111111111,\"#46039f\"],[0.2222222222222222,\"#7201a8\"],[0.3333333333333333,\"#9c179e\"],[0.4444444444444444,\"#bd3786\"],[0.5555555555555556,\"#d8576b\"],[0.6666666666666666,\"#ed7953\"],[0.7777777777777778,\"#fb9f3a\"],[0.8888888888888888,\"#fdca26\"],[1.0,\"#f0f921\"]],\"type\":\"contour\"}],\"contourcarpet\":[{\"colorbar\":{\"outlinewidth\":0,\"ticks\":\"\"},\"type\":\"contourcarpet\"}],\"heatmap\":[{\"colorbar\":{\"outlinewidth\":0,\"ticks\":\"\"},\"colorscale\":[[0.0,\"#0d0887\"],[0.1111111111111111,\"#46039f\"],[0.2222222222222222,\"#7201a8\"],[0.3333333333333333,\"#9c179e\"],[0.4444444444444444,\"#bd3786\"],[0.5555555555555556,\"#d8576b\"],[0.6666666666666666,\"#ed7953\"],[0.7777777777777778,\"#fb9f3a\"],[0.8888888888888888,\"#fdca26\"],[1.0,\"#f0f921\"]],\"type\":\"heatmap\"}],\"heatmapgl\":[{\"colorbar\":{\"outlinewidth\":0,\"ticks\":\"\"},\"colorscale\":[[0.0,\"#0d0887\"],[0.1111111111111111,\"#46039f\"],[0.2222222222222222,\"#7201a8\"],[0.3333333333333333,\"#9c179e\"],[0.4444444444444444,\"#bd3786\"],[0.5555555555555556,\"#d8576b\"],[0.6666666666666666,\"#ed7953\"],[0.7777777777777778,\"#fb9f3a\"],[0.8888888888888888,\"#fdca26\"],[1.0,\"#f0f921\"]],\"type\":\"heatmapgl\"}],\"histogram\":[{\"marker\":{\"pattern\":{\"fillmode\":\"overlay\",\"size\":10,\"solidity\":0.2}},\"type\":\"histogram\"}],\"histogram2d\":[{\"colorbar\":{\"outlinewidth\":0,\"ticks\":\"\"},\"colorscale\":[[0.0,\"#0d0887\"],[0.1111111111111111,\"#46039f\"],[0.2222222222222222,\"#7201a8\"],[0.3333333333333333,\"#9c179e\"],[0.4444444444444444,\"#bd3786\"],[0.5555555555555556,\"#d8576b\"],[0.6666666666666666,\"#ed7953\"],[0.7777777777777778,\"#fb9f3a\"],[0.8888888888888888,\"#fdca26\"],[1.0,\"#f0f921\"]],\"type\":\"histogram2d\"}],\"histogram2dcontour\":[{\"colorbar\":{\"outlinewidth\":0,\"ticks\":\"\"},\"colorscale\":[[0.0,\"#0d0887\"],[0.1111111111111111,\"#46039f\"],[0.2222222222222222,\"#7201a8\"],[0.3333333333333333,\"#9c179e\"],[0.4444444444444444,\"#bd3786\"],[0.5555555555555556,\"#d8576b\"],[0.6666666666666666,\"#ed7953\"],[0.7777777777777778,\"#fb9f3a\"],[0.8888888888888888,\"#fdca26\"],[1.0,\"#f0f921\"]],\"type\":\"histogram2dcontour\"}],\"mesh3d\":[{\"colorbar\":{\"outlinewidth\":0,\"ticks\":\"\"},\"type\":\"mesh3d\"}],\"parcoords\":[{\"line\":{\"colorbar\":{\"outlinewidth\":0,\"ticks\":\"\"}},\"type\":\"parcoords\"}],\"pie\":[{\"automargin\":true,\"type\":\"pie\"}],\"scatter\":[{\"marker\":{\"colorbar\":{\"outlinewidth\":0,\"ticks\":\"\"}},\"type\":\"scatter\"}],\"scatter3d\":[{\"line\":{\"colorbar\":{\"outlinewidth\":0,\"ticks\":\"\"}},\"marker\":{\"colorbar\":{\"outlinewidth\":0,\"ticks\":\"\"}},\"type\":\"scatter3d\"}],\"scattercarpet\":[{\"marker\":{\"colorbar\":{\"outlinewidth\":0,\"ticks\":\"\"}},\"type\":\"scattercarpet\"}],\"scattergeo\":[{\"marker\":{\"colorbar\":{\"outlinewidth\":0,\"ticks\":\"\"}},\"type\":\"scattergeo\"}],\"scattergl\":[{\"marker\":{\"colorbar\":{\"outlinewidth\":0,\"ticks\":\"\"}},\"type\":\"scattergl\"}],\"scattermapbox\":[{\"marker\":{\"colorbar\":{\"outlinewidth\":0,\"ticks\":\"\"}},\"type\":\"scattermapbox\"}],\"scatterpolar\":[{\"marker\":{\"colorbar\":{\"outlinewidth\":0,\"ticks\":\"\"}},\"type\":\"scatterpolar\"}],\"scatterpolargl\":[{\"marker\":{\"colorbar\":{\"outlinewidth\":0,\"ticks\":\"\"}},\"type\":\"scatterpolargl\"}],\"scatterternary\":[{\"marker\":{\"colorbar\":{\"outlinewidth\":0,\"ticks\":\"\"}},\"type\":\"scatterternary\"}],\"surface\":[{\"colorbar\":{\"outlinewidth\":0,\"ticks\":\"\"},\"colorscale\":[[0.0,\"#0d0887\"],[0.1111111111111111,\"#46039f\"],[0.2222222222222222,\"#7201a8\"],[0.3333333333333333,\"#9c179e\"],[0.4444444444444444,\"#bd3786\"],[0.5555555555555556,\"#d8576b\"],[0.6666666666666666,\"#ed7953\"],[0.7777777777777778,\"#fb9f3a\"],[0.8888888888888888,\"#fdca26\"],[1.0,\"#f0f921\"]],\"type\":\"surface\"}],\"table\":[{\"cells\":{\"fill\":{\"color\":\"#EBF0F8\"},\"line\":{\"color\":\"white\"}},\"header\":{\"fill\":{\"color\":\"#C8D4E3\"},\"line\":{\"color\":\"white\"}},\"type\":\"table\"}]},\"layout\":{\"annotationdefaults\":{\"arrowcolor\":\"#2a3f5f\",\"arrowhead\":0,\"arrowwidth\":1},\"autotypenumbers\":\"strict\",\"coloraxis\":{\"colorbar\":{\"outlinewidth\":0,\"ticks\":\"\"}},\"colorscale\":{\"diverging\":[[0,\"#8e0152\"],[0.1,\"#c51b7d\"],[0.2,\"#de77ae\"],[0.3,\"#f1b6da\"],[0.4,\"#fde0ef\"],[0.5,\"#f7f7f7\"],[0.6,\"#e6f5d0\"],[0.7,\"#b8e186\"],[0.8,\"#7fbc41\"],[0.9,\"#4d9221\"],[1,\"#276419\"]],\"sequential\":[[0.0,\"#0d0887\"],[0.1111111111111111,\"#46039f\"],[0.2222222222222222,\"#7201a8\"],[0.3333333333333333,\"#9c179e\"],[0.4444444444444444,\"#bd3786\"],[0.5555555555555556,\"#d8576b\"],[0.6666666666666666,\"#ed7953\"],[0.7777777777777778,\"#fb9f3a\"],[0.8888888888888888,\"#fdca26\"],[1.0,\"#f0f921\"]],\"sequentialminus\":[[0.0,\"#0d0887\"],[0.1111111111111111,\"#46039f\"],[0.2222222222222222,\"#7201a8\"],[0.3333333333333333,\"#9c179e\"],[0.4444444444444444,\"#bd3786\"],[0.5555555555555556,\"#d8576b\"],[0.6666666666666666,\"#ed7953\"],[0.7777777777777778,\"#fb9f3a\"],[0.8888888888888888,\"#fdca26\"],[1.0,\"#f0f921\"]]},\"colorway\":[\"#636efa\",\"#EF553B\",\"#00cc96\",\"#ab63fa\",\"#FFA15A\",\"#19d3f3\",\"#FF6692\",\"#B6E880\",\"#FF97FF\",\"#FECB52\"],\"font\":{\"color\":\"#2a3f5f\"},\"geo\":{\"bgcolor\":\"white\",\"lakecolor\":\"white\",\"landcolor\":\"#E5ECF6\",\"showlakes\":true,\"showland\":true,\"subunitcolor\":\"white\"},\"hoverlabel\":{\"align\":\"left\"},\"hovermode\":\"closest\",\"mapbox\":{\"style\":\"light\"},\"paper_bgcolor\":\"white\",\"plot_bgcolor\":\"#E5ECF6\",\"polar\":{\"angularaxis\":{\"gridcolor\":\"white\",\"linecolor\":\"white\",\"ticks\":\"\"},\"bgcolor\":\"#E5ECF6\",\"radialaxis\":{\"gridcolor\":\"white\",\"linecolor\":\"white\",\"ticks\":\"\"}},\"scene\":{\"xaxis\":{\"backgroundcolor\":\"#E5ECF6\",\"gridcolor\":\"white\",\"gridwidth\":2,\"linecolor\":\"white\",\"showbackground\":true,\"ticks\":\"\",\"zerolinecolor\":\"white\"},\"yaxis\":{\"backgroundcolor\":\"#E5ECF6\",\"gridcolor\":\"white\",\"gridwidth\":2,\"linecolor\":\"white\",\"showbackground\":true,\"ticks\":\"\",\"zerolinecolor\":\"white\"},\"zaxis\":{\"backgroundcolor\":\"#E5ECF6\",\"gridcolor\":\"white\",\"gridwidth\":2,\"linecolor\":\"white\",\"showbackground\":true,\"ticks\":\"\",\"zerolinecolor\":\"white\"}},\"shapedefaults\":{\"line\":{\"color\":\"#2a3f5f\"}},\"ternary\":{\"aaxis\":{\"gridcolor\":\"white\",\"linecolor\":\"white\",\"ticks\":\"\"},\"baxis\":{\"gridcolor\":\"white\",\"linecolor\":\"white\",\"ticks\":\"\"},\"bgcolor\":\"#E5ECF6\",\"caxis\":{\"gridcolor\":\"white\",\"linecolor\":\"white\",\"ticks\":\"\"}},\"title\":{\"x\":0.05},\"xaxis\":{\"automargin\":true,\"gridcolor\":\"white\",\"linecolor\":\"white\",\"ticks\":\"\",\"title\":{\"standoff\":15},\"zerolinecolor\":\"white\",\"zerolinewidth\":2},\"yaxis\":{\"automargin\":true,\"gridcolor\":\"white\",\"linecolor\":\"white\",\"ticks\":\"\",\"title\":{\"standoff\":15},\"zerolinecolor\":\"white\",\"zerolinewidth\":2}}}},                        {\"responsive\": true}                    ).then(function(){\n",
              "                            \n",
              "var gd = document.getElementById('38393824-a831-49a4-90cb-b24b61148b83');\n",
              "var x = new MutationObserver(function (mutations, observer) {{\n",
              "        var display = window.getComputedStyle(gd).display;\n",
              "        if (!display || display === 'none') {{\n",
              "            console.log([gd, 'removed!']);\n",
              "            Plotly.purge(gd);\n",
              "            observer.disconnect();\n",
              "        }}\n",
              "}});\n",
              "\n",
              "// Listen for the removal of the full notebook cells\n",
              "var notebookContainer = gd.closest('#notebook-container');\n",
              "if (notebookContainer) {{\n",
              "    x.observe(notebookContainer, {childList: true});\n",
              "}}\n",
              "\n",
              "// Listen for the clearing of the current output cell\n",
              "var outputEl = gd.closest('.output');\n",
              "if (outputEl) {{\n",
              "    x.observe(outputEl, {childList: true});\n",
              "}}\n",
              "\n",
              "                        })                };                            </script>        </div>\n",
              "</body>\n",
              "</html>"
            ]
          },
          "metadata": {}
        }
      ]
    },
    {
      "cell_type": "code",
      "source": [
        "print(efficientOpt(meanReturns, covMatrix,0.225))  "
      ],
      "metadata": {
        "colab": {
          "base_uri": "https://localhost:8080/"
        },
        "id": "l0M0KGTttSc6",
        "outputId": "5971efb8-8794-46e6-f37f-4ad14d8fa59f"
      },
      "execution_count": 16,
      "outputs": [
        {
          "output_type": "stream",
          "name": "stdout",
          "text": [
            "     fun: 0.18570276980041292\n",
            "     jac: array([0.11280485, 0.25846516, 0.22767229, 0.14439357, 0.10952542,\n",
            "       0.11004565])\n",
            " message: 'Optimization terminated successfully'\n",
            "    nfev: 56\n",
            "     nit: 8\n",
            "    njev: 8\n",
            "  status: 0\n",
            " success: True\n",
            "       x: array([2.62820258e-17, 4.79169411e-01, 4.07119036e-02, 0.00000000e+00,\n",
            "       4.80118685e-01, 1.60461922e-17])\n"
          ]
        }
      ]
    },
    {
      "cell_type": "code",
      "source": [
        "print(efficientOpt(meanReturns, covMatrix,0.24))  "
      ],
      "metadata": {
        "colab": {
          "base_uri": "https://localhost:8080/"
        },
        "id": "PUIbJh92uYsC",
        "outputId": "4dbe30d6-edd9-444e-d422-7e16c4b02c7c"
      },
      "execution_count": 17,
      "outputs": [
        {
          "output_type": "stream",
          "name": "stdout",
          "text": [
            "     fun: 0.19643772086908173\n",
            "     jac: array([0.11138236, 0.26922313, 0.23320969, 0.14197257, 0.09673519,\n",
            "       0.10489843])\n",
            " message: 'Optimization terminated successfully'\n",
            "    nfev: 42\n",
            "     nit: 6\n",
            "    njev: 6\n",
            "  status: 0\n",
            " success: True\n",
            "       x: array([0.00000000e+00, 5.34344525e-01, 5.52084502e-02, 1.94949063e-17,\n",
            "       4.10447025e-01, 2.08166817e-17])\n"
          ]
        }
      ]
    },
    {
      "cell_type": "code",
      "source": [
        "def plot_confusion_matrix(y_true, y_pred, class_names):\n",
        "    confusion_matrix = metrics.confusion_matrix(y_true, y_pred)\n",
        "    confusion_matrix = confusion_matrix.astype(int)\n",
        "\n",
        "    layout = {\n",
        "        \"title\": \"Confusion Matrix\", \n",
        "        \"xaxis\": {\"title\": \"Predicted value\"}, \n",
        "        \"yaxis\": {\"title\": \"Real value\"}\n",
        "    }\n",
        "\n",
        "    fig = go.Figure(data=go.Heatmap(z=confusion_matrix,\n",
        "                                    x=class_names,\n",
        "                                    y=class_names,\n",
        "                                    hoverongaps=False),\n",
        "                    layout=layout)\n",
        "    fig.show()"
      ],
      "metadata": {
        "id": "rP-ANX3pO1h9"
      },
      "execution_count": 18,
      "outputs": []
    }
  ]
}